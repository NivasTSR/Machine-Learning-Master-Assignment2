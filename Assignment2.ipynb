{
 "cells": [
  {
   "cell_type": "markdown",
   "metadata": {},
   "source": [
    "# 1.1 Write a Python Program to implement your own myreduce() function which works exactly like Python's built-in function reduce() "
   ]
  },
  {
   "cell_type": "code",
   "execution_count": 2,
   "metadata": {},
   "outputs": [
    {
     "name": "stdout",
     "output_type": "stream",
     "text": [
      "65\n"
     ]
    }
   ],
   "source": [
    "def doAdd(num1, num2): \n",
    "    return num1 + num2\n",
    "\n",
    "def myreduce(func_name, lst):\n",
    "    one = lst[0]\n",
    "    for x in lst[1:]:\n",
    "        one = func_name(one, x)\n",
    "    return one\n",
    "\n",
    "print(myreduce(doAdd, [11,12,13,14,15]))"
   ]
  },
  {
   "cell_type": "markdown",
   "metadata": {},
   "source": [
    "# 1.2 Write a Python program to implement your own myfilter() function which works exactly like Python's built-in function filter() "
   ]
  },
  {
   "cell_type": "code",
   "execution_count": 1,
   "metadata": {},
   "outputs": [
    {
     "name": "stdout",
     "output_type": "stream",
     "text": [
      "['T', 'R']\n"
     ]
    }
   ],
   "source": [
    "def myfilter(func_name, lst):\n",
    "    op = []\n",
    "    for i in lst:\n",
    "        if func_name(i):\n",
    "            op.append(i)\n",
    "    return op\n",
    "\n",
    "def is_cap(x):\n",
    "    val =ord(x) \n",
    "    if val>=65 and val <=90:\n",
    "        return True\n",
    "    else:\n",
    "        return False\n",
    "\n",
    "f = myfilter(is_cap, ['a','T','s','R','b'])\n",
    "\n",
    "print(f)"
   ]
  },
  {
   "cell_type": "markdown",
   "metadata": {},
   "source": [
    "# Task1 : 2 Implement List comprehensions to produce the following lists. Write List comprehensions to produce the following Lists \n",
    " \n",
    "['A', 'C', 'A', 'D', 'G', 'I', ’L’, ‘ D’] \n",
    " \n",
    "['x', 'xx', 'xxx', 'xxxx', 'y', 'yy', 'yyy', 'yyyy', 'z', 'zz', 'zzz', 'zzzz'] \n",
    " \n",
    "['x', 'y', 'z', 'xx', 'yy', 'zz', 'xx', 'yy', 'zz', 'xxxx', 'yyyy', 'zzzz'] \n",
    " \n",
    "[[2], [3], [4], [3], [4], [5], [4], [5], [6]] \n",
    " \n",
    "[[2, 3, 4, 5], [3, 4, 5, 6], [4, 5, 6, 7], [5, 6, 7, 8]] \n",
    " \n",
    "[(1, 1), (2, 1), (3, 1), (1, 2), (2, 2), (3, 2), (1, 3), (2, 3), (3, 3)] \n",
    " "
   ]
  },
  {
   "cell_type": "code",
   "execution_count": 1,
   "metadata": {},
   "outputs": [
    {
     "name": "stdout",
     "output_type": "stream",
     "text": [
      "Requested format 1: ['A', 'C', 'A', 'D', 'G', 'I', 'L', 'D']\n",
      "Requested format 2 : ['x', 'xx', 'xxx', 'xxxx', 'y', 'yy', 'yyy', 'yyyy', 'z', 'zz', 'zzz', 'zzzz']\n",
      "Requested format 3 : ['x', 'y', 'z', 'xx', 'yy', 'zz', 'xxx', 'yyy', 'zzz', 'xxxx', 'yyyy', 'zzzz']\n",
      "Requested format 4 : [[2], [3], [4], [3], [4], [5], [4], [5], [6]]\n",
      "Requested format 5 : [[2, 3, 4, 5], [3, 4, 5, 6], [4, 5, 6, 7], [5, 6, 7, 8]]\n",
      "Requested format 6 : [(1, 1), (1, 2), (1, 3), (2, 1), (2, 2), (2, 3), (3, 1), (3, 2), (3, 3)]\n"
     ]
    }
   ],
   "source": [
    "# setup the base lists\n",
    "\n",
    "lst1 = [[2],[3],[4]]\n",
    "baseStr = \"ACADGILD\"\n",
    "baseLst = ['x','y','z']\n",
    "\n",
    "# Generate list ['A', 'C', 'A', 'D', 'G', 'I', ’L’, ‘ D’]\n",
    "\n",
    "listCaps = [ letter for letter in baseStr ]\n",
    "print (\"Requested format 1: \" + str(listCaps))\n",
    "\n",
    "# Generate list ['x', 'xx', 'xxx', 'xxxx', 'y', 'yy', 'yyy', 'yyyy', 'z', 'zz', 'zzz', 'zzzz']\n",
    "\n",
    "patternLst = [ i*x for i in baseLst for x in range(1,5) ]\n",
    "print (\"Requested format 2 : \", end='')\n",
    "print(patternLst)\n",
    "\n",
    "# Generate list ['x', 'y', 'z', 'xx', 'yy', 'zz', 'xx', 'yy', 'zz', 'xxxx', 'yyyy', 'zzzz']\n",
    "\n",
    "patternLst = [ i*x for x in range(1,5) for i in baseLst ]\n",
    "print (\"Requested format 3 : \", end='')\n",
    "print(patternLst)\n",
    "\n",
    "\n",
    "# Generate list [[2], [3], [4], [3], [4], [5], [4], [5], [6]]\n",
    "\n",
    "lst2 = [[lst1[x][0]+y] for x in range(0,3) for y in range(0,3)]\n",
    "print (\"Requested format 4 : \", end='')\n",
    "print(lst2)\n",
    "\n",
    "lst3 = [2,3,4,5]\n",
    "\n",
    "# Generate list [[2, 3, 4, 5], [3, 4, 5, 6], [4, 5, 6, 7], [5, 6, 7, 8]]\n",
    "\n",
    "lst4 = [[z+x for z in lst3] for x in range(0,4)]\n",
    "print (\"Requested format 5 : \" , end='')\n",
    "print(lst4)\n",
    "\n",
    "# Generate list [(1, 1), (1, 2), (1, 3), (2, 1), (2, 2), (2, 3), (3, 1), (3, 2), (3, 3)]\n",
    "\n",
    "lst5 = [1,2,3]\n",
    "lst6 =[(lst5[x],y) for x in range(0,3) for y in range(1,4)]\n",
    "print (\"Requested format 6 : \", end='')\n",
    "print(lst6)"
   ]
  },
  {
   "cell_type": "markdown",
   "metadata": {},
   "source": [
    "# Task 2: 1.1 Write a Python Program(with class concepts) to find the area of the triangle using the below formula. \n",
    " \n",
    "area = (s*(s-a)*(s-b)*(s-c)) ** 0.5 \n",
    " \n",
    "Function to take the length of the sides of triangle from user should be defined in the parent class and function to calculate the area should be defined in subclass. "
   ]
  },
  {
   "cell_type": "code",
   "execution_count": 4,
   "metadata": {},
   "outputs": [
    {
     "name": "stdout",
     "output_type": "stream",
     "text": [
      "Child class at work ... Triangle with sides\n",
      "Super class at work ....defined side sizes are...6 7 8\n",
      "10.5\n",
      "Area of triangle is 59.39696961966999\n"
     ]
    }
   ],
   "source": [
    "class Triangle:\n",
    "    def __init__(self,a,b,c):\n",
    "        self.s1 = a\n",
    "        self.s2 = b\n",
    "        self.s3 = c\n",
    "        print(\"Super class at work ....defined side sizes are...\" + str(a) + \" \" + str(b) + \" \" + str(c))\n",
    "        \n",
    "class TriangleProperties(Triangle):\n",
    "    def __init__(self,s1,s2,s3):\n",
    "        print(\"Child class at work ... Triangle with sides\")\n",
    "        super(TriangleProperties, self).__init__(s1,s2,s3)\n",
    "\n",
    "    def triArea(self):\n",
    "        s = (self.s1 + self.s2 + self.s3)/2\n",
    "        # print(str(s))\n",
    "        area = (s*(self.s1)*(self.s2)*(self.s3))**0.5\n",
    "        return area\n",
    "\n",
    "instObj = TriangleProperties(6,7,8)\n",
    "print (\"Area of triangle is \"+ str(instObj.triArea()))"
   ]
  },
  {
   "cell_type": "markdown",
   "metadata": {},
   "source": [
    "# Task 2: 1.2 Write a function filter_long_words() that takes a list of words and an integer n and returns the list of words that are longer than n."
   ]
  },
  {
   "cell_type": "code",
   "execution_count": 6,
   "metadata": {},
   "outputs": [
    {
     "name": "stdout",
     "output_type": "stream",
     "text": [
      "Words split from base string ['This', 'is', 'assignment2', 'submission', 'for', 'evaluation', 'by', 'machine', 'learning', 'masters', 'batch']\n",
      "Enter the length of word :4\n",
      " Word is .... \n"
     ]
    },
    {
     "data": {
      "text/plain": [
       "['assignment2',\n",
       " 'submission',\n",
       " 'evaluation',\n",
       " 'machine',\n",
       " 'learning',\n",
       " 'masters',\n",
       " 'batch']"
      ]
     },
     "execution_count": 6,
     "metadata": {},
     "output_type": "execute_result"
    }
   ],
   "source": [
    "# Let us create a base string\n",
    "\n",
    "from functools import reduce\n",
    "baseStr =\"This is assignment2 submission for evaluation by machine learning masters batch\"\n",
    "wordsLst = baseStr.split(\" \")\n",
    "\n",
    "print(\"Words split from base string \"+ str(wordsLst))\n",
    "\n",
    "longword = []\n",
    "def filter_long_words(wl,num):\n",
    "    for x in wl:\n",
    "        if (len(x)> num):\n",
    "            longword.append(x)\n",
    "    return(longword)\n",
    "\n",
    "tst = input(\"Enter the length of word :\")\n",
    "print(\" Word is .... \" )\n",
    "filter_long_words(wordsLst,int(tst))"
   ]
  },
  {
   "cell_type": "markdown",
   "metadata": {},
   "source": [
    "# Task 2 : 2.1 Write a Python program using function concept that maps  list of words into a list of integers representing the lengths of the corresponding words​. \n",
    " Hint: ​If a list [ ab,cde,erty] is passed on to the python function output should come as [2,3,4] \n",
    " Here 2,3 and 4 are the lengths of the words in the list. \n",
    " "
   ]
  },
  {
   "cell_type": "code",
   "execution_count": 7,
   "metadata": {},
   "outputs": [
    {
     "name": "stdout",
     "output_type": "stream",
     "text": [
      "Words List \n",
      " ['This', 'is', 'assignment2', 'submission', 'for', 'evaluation', 'by', 'machine', 'learning', 'masters', 'batch']\n",
      "Word lengths List \n",
      " [4, 2, 11, 10, 3, 10, 2, 7, 8, 7, 5]\n"
     ]
    }
   ],
   "source": [
    "# create tbe string for checking the word lenths \n",
    "baseStr =\"This is assignment2 submission for evaluation by machine learning masters batch\"\n",
    "wordsLst = baseStr.split(\" \")\n",
    "\n",
    "print(\"Words List \\n \"+ str(wordsLst))\n",
    "\n",
    "lst5 =[]\n",
    "for x in wordsLst:\n",
    "    lst5.append(len(x))\n",
    "\n",
    "print(\"Word lengths List \\n \"+ str(lst5))"
   ]
  },
  {
   "cell_type": "markdown",
   "metadata": {},
   "source": [
    "# Task 2 : 2.2 Write a Python function which takes a character (i.e. a string of length 1) and returns True if it is a vowel, False otherwise."
   ]
  },
  {
   "cell_type": "code",
   "execution_count": 8,
   "metadata": {},
   "outputs": [
    {
     "name": "stdout",
     "output_type": "stream",
     "text": [
      "Enter single character for vowel check :J\n"
     ]
    },
    {
     "data": {
      "text/plain": [
       "False"
      ]
     },
     "execution_count": 8,
     "metadata": {},
     "output_type": "execute_result"
    }
   ],
   "source": [
    "li = \"AEIOUaeiou\"\n",
    "\n",
    "def isVowel(char):\n",
    "    if(li.find(char) < 0):\n",
    "        return False\n",
    "    else:\n",
    "        return True\n",
    "\n",
    "ch = input('Enter single character for vowel check :')\n",
    "isVowel(ch)"
   ]
  }
 ],
 "metadata": {
  "kernelspec": {
   "display_name": "Python 3",
   "language": "python",
   "name": "python3"
  },
  "language_info": {
   "codemirror_mode": {
    "name": "ipython",
    "version": 3
   },
   "file_extension": ".py",
   "mimetype": "text/x-python",
   "name": "python",
   "nbconvert_exporter": "python",
   "pygments_lexer": "ipython3",
   "version": "3.7.4"
  }
 },
 "nbformat": 4,
 "nbformat_minor": 2
}
